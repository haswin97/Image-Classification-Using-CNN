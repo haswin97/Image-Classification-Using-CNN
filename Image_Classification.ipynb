{
  "nbformat": 4,
  "nbformat_minor": 0,
  "metadata": {
    "colab": {
      "name": "Klasifikasi Gambar.ipynb",
      "provenance": [],
      "collapsed_sections": []
    },
    "kernelspec": {
      "name": "python3",
      "display_name": "Python 3"
    },
    "language_info": {
      "name": "python"
    },
    "accelerator": "GPU"
  },
  "cells": [
    {
      "cell_type": "markdown",
      "metadata": {
        "id": "rb8aYpjuj2GM"
      },
      "source": [
        "**# Mounting Drive**"
      ]
    },
    {
      "cell_type": "code",
      "metadata": {
        "colab": {
          "base_uri": "https://localhost:8080/"
        },
        "id": "4usy6O6Gf6KJ",
        "outputId": "5692f045-1706-4f19-adc5-da2d29048721"
      },
      "source": [
        "from google.colab import drive\n",
        "drive.mount('/content/drive')"
      ],
      "execution_count": null,
      "outputs": [
        {
          "output_type": "stream",
          "text": [
            "Drive already mounted at /content/drive; to attempt to forcibly remount, call drive.mount(\"/content/drive\", force_remount=True).\n"
          ],
          "name": "stdout"
        }
      ]
    },
    {
      "cell_type": "markdown",
      "metadata": {
        "id": "gfSlwE0hjzCz"
      },
      "source": [
        "**# Takes all definitions from the module and places them into current workspace**"
      ]
    },
    {
      "cell_type": "code",
      "metadata": {
        "id": "_XazH5qrQ6lN"
      },
      "source": [
        "import os\n",
        "import tensorflow as tf\n",
        "from tensorflow.keras.preprocessing.image import ImageDataGenerator\n",
        "from tensorflow.keras.models import Sequential\n",
        "from tensorflow.keras.optimizers import Nadam\n",
        "from tensorflow.keras.layers import Dense, Activation, Dropout, Flatten, Conv2D, MaxPooling2D, ZeroPadding2D\n",
        "import matplotlib.pyplot as plt\n",
        "import time\n",
        "import numpy as np\n",
        "from google.colab import files\n",
        "from keras.preprocessing import image\n",
        "import matplotlib.pyplot as plt\n",
        "import matplotlib.image as mpimg\n",
        "import matplotlib.pyplot as plt\n",
        "import matplotlib.image as mpimg"
      ],
      "execution_count": null,
      "outputs": []
    },
    {
      "cell_type": "markdown",
      "metadata": {
        "id": "CdgTp-b_j_n0"
      },
      "source": [
        "**# List of Available GPU**"
      ]
    },
    {
      "cell_type": "code",
      "metadata": {
        "colab": {
          "base_uri": "https://localhost:8080/"
        },
        "id": "tQsEkHvL7Y_M",
        "outputId": "fa9fdec7-7bf1-405e-f77d-51d43375ee7a"
      },
      "source": [
        "tf.config.experimental.list_physical_devices(device_type='GPU')"
      ],
      "execution_count": null,
      "outputs": [
        {
          "output_type": "execute_result",
          "data": {
            "text/plain": [
              "[PhysicalDevice(name='/physical_device:GPU:0', device_type='GPU')]"
            ]
          },
          "metadata": {
            "tags": []
          },
          "execution_count": 3
        }
      ]
    },
    {
      "cell_type": "markdown",
      "metadata": {
        "id": "REIUwI8tkJs7"
      },
      "source": [
        "**# Open Main Directory**"
      ]
    },
    {
      "cell_type": "code",
      "metadata": {
        "colab": {
          "base_uri": "https://localhost:8080/"
        },
        "id": "0hJ5cxbRfsGP",
        "outputId": "269cd724-373f-41ed-d8d0-e79364b34475"
      },
      "source": [
        "cd /content/drive/MyDrive/Colab Notebooks/rockpaperscissors"
      ],
      "execution_count": null,
      "outputs": [
        {
          "output_type": "stream",
          "text": [
            "/content/drive/MyDrive/Colab Notebooks/rockpaperscissors\n"
          ],
          "name": "stdout"
        }
      ]
    },
    {
      "cell_type": "markdown",
      "metadata": {
        "id": "tCpO9hXnkONe"
      },
      "source": [
        "**# Open Training Directory**"
      ]
    },
    {
      "cell_type": "code",
      "metadata": {
        "colab": {
          "base_uri": "https://localhost:8080/"
        },
        "id": "K_K9QuuriS0g",
        "outputId": "b20e68a4-161f-4dc9-ff12-cd52cad3378b"
      },
      "source": [
        "os.listdir('/content/drive/MyDrive/Colab Notebooks/rockpaperscissors/train')"
      ],
      "execution_count": null,
      "outputs": [
        {
          "output_type": "execute_result",
          "data": {
            "text/plain": [
              "['scissors', 'paper', 'rock']"
            ]
          },
          "metadata": {
            "tags": []
          },
          "execution_count": 5
        }
      ]
    },
    {
      "cell_type": "markdown",
      "metadata": {
        "id": "pNVIfbO6kTft"
      },
      "source": [
        "**# Open Validation Directory**"
      ]
    },
    {
      "cell_type": "code",
      "metadata": {
        "colab": {
          "base_uri": "https://localhost:8080/"
        },
        "id": "brdy3OkHiT2Z",
        "outputId": "ecc691b3-4154-49ea-bb69-3d5d51f451b4"
      },
      "source": [
        "os.listdir('/content/drive/MyDrive/Colab Notebooks/rockpaperscissors/val')"
      ],
      "execution_count": null,
      "outputs": [
        {
          "output_type": "execute_result",
          "data": {
            "text/plain": [
              "['paper', 'scissors', 'rock']"
            ]
          },
          "metadata": {
            "tags": []
          },
          "execution_count": 6
        }
      ]
    },
    {
      "cell_type": "markdown",
      "metadata": {
        "id": "j1OxtSZIkZHE"
      },
      "source": [
        "**# Create Data Augmentation & Data Generator**"
      ]
    },
    {
      "cell_type": "code",
      "metadata": {
        "colab": {
          "base_uri": "https://localhost:8080/"
        },
        "id": "w03-I484hzMb",
        "outputId": "2b95afb8-f96a-4100-e41d-d82649fdfa32"
      },
      "source": [
        "base_dir = '/content/drive/MyDrive/Colab Notebooks/rockpaperscissors'\n",
        "train_dir = os.path.join(base_dir, 'train')\n",
        "validation_dir = os.path.join(base_dir, 'val')\n",
        "\n",
        "# Directory with training paper images\n",
        "train_paper_dir = os.path.join(train_dir, 'paper')\n",
        "\n",
        "# Directory with training rock images\n",
        "train_rock_dir = os.path.join(train_dir, 'rock')\n",
        "\n",
        "# Directory with training scissors iamges\n",
        "train_scissors_dir = os.path.join(train_dir, 'scissors')\n",
        "\n",
        "# Directory with validation paper images\n",
        "validation_paper_dir = os.path.join(validation_dir, 'paper')\n",
        "\n",
        "# Directory with validation rock images\n",
        "validation_rock_dir = os.path.join(validation_dir, 'rock')\n",
        "\n",
        "# Directory with validation scissors images\n",
        "validation_scissors_dir = os.path.join(validation_dir, 'scissors')\n",
        "\n",
        "train_paper_fnames = os.listdir(train_paper_dir)\n",
        "train_rock_fnames = os.listdir(train_rock_dir)\n",
        "train_scissors_fnames = os.listdir(train_scissors_dir)\n",
        "\n",
        "# Add data-augmentation parameters to ImageDataGenerator\n",
        "train_datagen = ImageDataGenerator(\n",
        "    rescale=1./255,\n",
        "    rotation_range=40,\n",
        "    width_shift_range=0.2,\n",
        "    height_shift_range=0.2,\n",
        "    shear_range=0.2,\n",
        "    zoom_range=0.2,\n",
        "    horizontal_flip=True\n",
        "    )\n",
        "\n",
        "val_datagen = ImageDataGenerator(rescale=1./255)\n",
        "\n",
        "train_generator = train_datagen.flow_from_directory(\n",
        "        train_dir, \n",
        "        target_size=(150, 150),  \n",
        "        batch_size=20,\n",
        "        class_mode='categorical')\n",
        "\n",
        "validation_generator = val_datagen.flow_from_directory(\n",
        "        validation_dir,\n",
        "        target_size=(150, 150),\n",
        "        batch_size=20,\n",
        "        class_mode='categorical')"
      ],
      "execution_count": null,
      "outputs": [
        {
          "output_type": "stream",
          "text": [
            "Found 1314 images belonging to 3 classes.\n",
            "Found 874 images belonging to 3 classes.\n"
          ],
          "name": "stdout"
        }
      ]
    },
    {
      "cell_type": "markdown",
      "metadata": {
        "id": "cjYPvG32kfXD"
      },
      "source": [
        "**# Create CNN Model**"
      ]
    },
    {
      "cell_type": "code",
      "metadata": {
        "colab": {
          "base_uri": "https://localhost:8080/"
        },
        "id": "3OIAqIEu4iL_",
        "outputId": "98220376-99b8-438d-9d55-f2a00041881f"
      },
      "source": [
        "model = tf.keras.models.Sequential([\n",
        "    \n",
        "    # First convolution\n",
        "    tf.keras.layers.Conv2D(64, (3,3), activation='relu', input_shape=(150, 150, 3)),\n",
        "    tf.keras.layers.MaxPooling2D(2, 2),\n",
        "  \n",
        "    # Second convolution\n",
        "    tf.keras.layers.Conv2D(64, (3,3), activation='relu'),\n",
        "    tf.keras.layers.MaxPooling2D(2,2),\n",
        "    tf.keras.layers.Dropout(0.25),\n",
        "\n",
        "    # Third convolution\n",
        "    tf.keras.layers.Conv2D(128, (3,3), activation='relu'),\n",
        "    tf.keras.layers.MaxPooling2D(2,2),\n",
        "   \n",
        "    # Fourth convolution\n",
        "    tf.keras.layers.Conv2D(128, (3,3), activation='relu'),\n",
        "    tf.keras.layers.MaxPooling2D(2,2),\n",
        "    tf.keras.layers.Dropout(0.25),\n",
        "\n",
        "    # Flatten the results to feed into a DNN\n",
        "    tf.keras.layers.Flatten(),\n",
        "    \n",
        "    # 512 neuron hidden layer\n",
        "    tf.keras.layers.Dense(512, activation='relu'),\n",
        "    tf.keras.layers.Dropout(0.5),\n",
        "    tf.keras.layers.Dense(3, activation='softmax')\n",
        "])\n",
        "\n",
        "\n",
        "model.summary()"
      ],
      "execution_count": null,
      "outputs": [
        {
          "output_type": "stream",
          "text": [
            "Model: \"sequential_9\"\n",
            "_________________________________________________________________\n",
            "Layer (type)                 Output Shape              Param #   \n",
            "=================================================================\n",
            "conv2d_36 (Conv2D)           (None, 148, 148, 64)      1792      \n",
            "_________________________________________________________________\n",
            "max_pooling2d_36 (MaxPooling (None, 74, 74, 64)        0         \n",
            "_________________________________________________________________\n",
            "conv2d_37 (Conv2D)           (None, 72, 72, 64)        36928     \n",
            "_________________________________________________________________\n",
            "max_pooling2d_37 (MaxPooling (None, 36, 36, 64)        0         \n",
            "_________________________________________________________________\n",
            "dropout_18 (Dropout)         (None, 36, 36, 64)        0         \n",
            "_________________________________________________________________\n",
            "conv2d_38 (Conv2D)           (None, 34, 34, 128)       73856     \n",
            "_________________________________________________________________\n",
            "max_pooling2d_38 (MaxPooling (None, 17, 17, 128)       0         \n",
            "_________________________________________________________________\n",
            "conv2d_39 (Conv2D)           (None, 15, 15, 128)       147584    \n",
            "_________________________________________________________________\n",
            "max_pooling2d_39 (MaxPooling (None, 7, 7, 128)         0         \n",
            "_________________________________________________________________\n",
            "dropout_19 (Dropout)         (None, 7, 7, 128)         0         \n",
            "_________________________________________________________________\n",
            "flatten_9 (Flatten)          (None, 6272)              0         \n",
            "_________________________________________________________________\n",
            "dense_18 (Dense)             (None, 512)               3211776   \n",
            "_________________________________________________________________\n",
            "dropout_20 (Dropout)         (None, 512)               0         \n",
            "_________________________________________________________________\n",
            "dense_19 (Dense)             (None, 3)                 1539      \n",
            "=================================================================\n",
            "Total params: 3,473,475\n",
            "Trainable params: 3,473,475\n",
            "Non-trainable params: 0\n",
            "_________________________________________________________________\n"
          ],
          "name": "stdout"
        }
      ]
    },
    {
      "cell_type": "markdown",
      "metadata": {
        "id": "xlu7mK7BkjOb"
      },
      "source": [
        "**# Define Loss, Optimizer & Compile the Model**"
      ]
    },
    {
      "cell_type": "code",
      "metadata": {
        "id": "li2sQ5QdoKTT"
      },
      "source": [
        "model.compile(loss = 'categorical_crossentropy', optimizer=tf.keras.optimizers.Nadam(learning_rate=2e-04), metrics=['accuracy'])"
      ],
      "execution_count": null,
      "outputs": []
    },
    {
      "cell_type": "markdown",
      "metadata": {
        "id": "LzShtPRukqOL"
      },
      "source": [
        "**# Create Callback**"
      ]
    },
    {
      "cell_type": "code",
      "metadata": {
        "id": "tLDyW1dog_hM"
      },
      "source": [
        "callbacks =([tf.keras.callbacks.ReduceLROnPlateau(monitor='loss', patience=10, verbose=1),\n",
        "             tf.keras.callbacks.EarlyStopping(monitor='loss', patience=10, verbose=1)\n",
        "])"
      ],
      "execution_count": null,
      "outputs": []
    },
    {
      "cell_type": "markdown",
      "metadata": {
        "id": "zxCS2jqGkuSe"
      },
      "source": [
        "**# Training the Model**"
      ]
    },
    {
      "cell_type": "code",
      "metadata": {
        "colab": {
          "base_uri": "https://localhost:8080/",
          "height": 1000
        },
        "id": "XLPebwGRoLIo",
        "outputId": "e93de2b8-7f27-4a66-b21f-f0ef8b328b4e"
      },
      "source": [
        "start = time.time()\n",
        "\n",
        "history = model.fit(\n",
        "      train_generator,\n",
        "      steps_per_epoch=60, \n",
        "      epochs=50,\n",
        "      validation_data=validation_generator, \n",
        "      validation_steps=40,  \n",
        "      callbacks=callbacks,\n",
        "      verbose=1)\n",
        "\n",
        "end = time.time()\n",
        "\n",
        "elapsed_time = end - start\n",
        "time.strftime(\"Time Elapsed: %H:%M:%S\", time.gmtime(elapsed_time))"
      ],
      "execution_count": null,
      "outputs": [
        {
          "output_type": "stream",
          "text": [
            "Epoch 1/50\n",
            "60/60 [==============================] - 13s 205ms/step - loss: 1.0892 - accuracy: 0.3752 - val_loss: 1.0416 - val_accuracy: 0.4288\n",
            "Epoch 2/50\n",
            "60/60 [==============================] - 12s 206ms/step - loss: 1.0196 - accuracy: 0.4916 - val_loss: 0.8957 - val_accuracy: 0.7000\n",
            "Epoch 3/50\n",
            "60/60 [==============================] - 12s 202ms/step - loss: 0.8364 - accuracy: 0.6323 - val_loss: 0.6173 - val_accuracy: 0.6900\n",
            "Epoch 4/50\n",
            "60/60 [==============================] - 12s 207ms/step - loss: 0.6600 - accuracy: 0.7127 - val_loss: 0.3254 - val_accuracy: 0.9438\n",
            "Epoch 5/50\n",
            "60/60 [==============================] - 12s 207ms/step - loss: 0.5579 - accuracy: 0.7655 - val_loss: 0.3212 - val_accuracy: 0.9050\n",
            "Epoch 6/50\n",
            "60/60 [==============================] - 12s 207ms/step - loss: 0.4850 - accuracy: 0.8065 - val_loss: 0.2134 - val_accuracy: 0.9550\n",
            "Epoch 7/50\n",
            "60/60 [==============================] - 12s 207ms/step - loss: 0.4090 - accuracy: 0.8526 - val_loss: 0.1407 - val_accuracy: 0.9775\n",
            "Epoch 8/50\n",
            "60/60 [==============================] - 12s 204ms/step - loss: 0.3809 - accuracy: 0.8626 - val_loss: 0.1430 - val_accuracy: 0.9750\n",
            "Epoch 9/50\n",
            "60/60 [==============================] - 12s 207ms/step - loss: 0.2964 - accuracy: 0.8827 - val_loss: 0.0736 - val_accuracy: 0.9850\n",
            "Epoch 10/50\n",
            "60/60 [==============================] - 12s 203ms/step - loss: 0.2375 - accuracy: 0.9129 - val_loss: 0.0636 - val_accuracy: 0.9837\n",
            "Epoch 11/50\n",
            "60/60 [==============================] - 12s 205ms/step - loss: 0.2453 - accuracy: 0.9179 - val_loss: 0.0645 - val_accuracy: 0.9862\n",
            "Epoch 12/50\n",
            "60/60 [==============================] - 12s 204ms/step - loss: 0.1825 - accuracy: 0.9389 - val_loss: 0.0434 - val_accuracy: 0.9875\n",
            "Epoch 13/50\n",
            "60/60 [==============================] - 12s 207ms/step - loss: 0.1834 - accuracy: 0.9447 - val_loss: 0.0585 - val_accuracy: 0.9887\n",
            "Epoch 14/50\n",
            "60/60 [==============================] - 12s 201ms/step - loss: 0.1575 - accuracy: 0.9481 - val_loss: 0.0357 - val_accuracy: 0.9900\n",
            "Epoch 15/50\n",
            "60/60 [==============================] - 12s 202ms/step - loss: 0.1766 - accuracy: 0.9430 - val_loss: 0.0533 - val_accuracy: 0.9887\n",
            "Epoch 16/50\n",
            "60/60 [==============================] - 12s 202ms/step - loss: 0.1567 - accuracy: 0.9405 - val_loss: 0.0697 - val_accuracy: 0.9850\n",
            "Epoch 17/50\n",
            "60/60 [==============================] - 12s 208ms/step - loss: 0.1286 - accuracy: 0.9567 - val_loss: 0.0467 - val_accuracy: 0.9887\n",
            "Epoch 18/50\n",
            "60/60 [==============================] - 12s 208ms/step - loss: 0.1101 - accuracy: 0.9615 - val_loss: 0.0394 - val_accuracy: 0.9900\n",
            "Epoch 19/50\n",
            "60/60 [==============================] - 12s 201ms/step - loss: 0.1043 - accuracy: 0.9690 - val_loss: 0.0472 - val_accuracy: 0.9912\n",
            "Epoch 20/50\n",
            "60/60 [==============================] - 12s 202ms/step - loss: 0.1254 - accuracy: 0.9564 - val_loss: 0.0507 - val_accuracy: 0.9875\n",
            "Epoch 21/50\n",
            "60/60 [==============================] - 12s 202ms/step - loss: 0.0826 - accuracy: 0.9740 - val_loss: 0.0363 - val_accuracy: 0.9887\n",
            "Epoch 22/50\n",
            "60/60 [==============================] - 12s 205ms/step - loss: 0.1068 - accuracy: 0.9690 - val_loss: 0.0351 - val_accuracy: 0.9900\n",
            "Epoch 23/50\n",
            "60/60 [==============================] - 12s 201ms/step - loss: 0.1045 - accuracy: 0.9657 - val_loss: 0.0505 - val_accuracy: 0.9875\n",
            "Epoch 24/50\n",
            "60/60 [==============================] - 12s 208ms/step - loss: 0.0858 - accuracy: 0.9740 - val_loss: 0.0426 - val_accuracy: 0.9850\n",
            "Epoch 25/50\n",
            "60/60 [==============================] - 12s 202ms/step - loss: 0.0816 - accuracy: 0.9740 - val_loss: 0.0387 - val_accuracy: 0.9900\n",
            "Epoch 26/50\n",
            "60/60 [==============================] - 12s 205ms/step - loss: 0.0994 - accuracy: 0.9690 - val_loss: 0.0337 - val_accuracy: 0.9900\n",
            "Epoch 27/50\n",
            "60/60 [==============================] - 12s 201ms/step - loss: 0.0883 - accuracy: 0.9707 - val_loss: 0.0385 - val_accuracy: 0.9887\n",
            "Epoch 28/50\n",
            "60/60 [==============================] - 12s 208ms/step - loss: 0.0646 - accuracy: 0.9791 - val_loss: 0.0410 - val_accuracy: 0.9887\n",
            "Epoch 29/50\n",
            "60/60 [==============================] - 12s 200ms/step - loss: 0.0522 - accuracy: 0.9849 - val_loss: 0.0439 - val_accuracy: 0.9900\n",
            "Epoch 30/50\n",
            "60/60 [==============================] - 12s 205ms/step - loss: 0.0872 - accuracy: 0.9783 - val_loss: 0.0364 - val_accuracy: 0.9925\n",
            "Epoch 31/50\n",
            "60/60 [==============================] - 12s 202ms/step - loss: 0.0922 - accuracy: 0.9665 - val_loss: 0.0458 - val_accuracy: 0.9912\n",
            "Epoch 32/50\n",
            "60/60 [==============================] - 12s 209ms/step - loss: 0.0713 - accuracy: 0.9807 - val_loss: 0.0353 - val_accuracy: 0.9887\n",
            "Epoch 33/50\n",
            "60/60 [==============================] - 12s 201ms/step - loss: 0.0961 - accuracy: 0.9715 - val_loss: 0.0365 - val_accuracy: 0.9925\n",
            "Epoch 34/50\n",
            "60/60 [==============================] - 12s 202ms/step - loss: 0.0708 - accuracy: 0.9783 - val_loss: 0.0334 - val_accuracy: 0.9912\n",
            "Epoch 35/50\n",
            "60/60 [==============================] - 12s 207ms/step - loss: 0.0536 - accuracy: 0.9817 - val_loss: 0.0199 - val_accuracy: 0.9937\n",
            "Epoch 36/50\n",
            "60/60 [==============================] - 12s 203ms/step - loss: 0.0669 - accuracy: 0.9782 - val_loss: 0.0441 - val_accuracy: 0.9900\n",
            "Epoch 37/50\n",
            "60/60 [==============================] - 12s 202ms/step - loss: 0.0679 - accuracy: 0.9774 - val_loss: 0.0339 - val_accuracy: 0.9937\n",
            "Epoch 38/50\n",
            "60/60 [==============================] - 12s 204ms/step - loss: 0.0543 - accuracy: 0.9824 - val_loss: 0.0355 - val_accuracy: 0.9912\n",
            "Epoch 39/50\n",
            "60/60 [==============================] - 12s 202ms/step - loss: 0.0737 - accuracy: 0.9765 - val_loss: 0.0377 - val_accuracy: 0.9912\n",
            "\n",
            "Epoch 00039: ReduceLROnPlateau reducing learning rate to 1.9999999494757503e-05.\n",
            "Epoch 00039: early stopping\n"
          ],
          "name": "stdout"
        },
        {
          "output_type": "execute_result",
          "data": {
            "application/vnd.google.colaboratory.intrinsic+json": {
              "type": "string"
            },
            "text/plain": [
              "'Time Elapsed: 00:11:07'"
            ]
          },
          "metadata": {
            "tags": []
          },
          "execution_count": 89
        }
      ]
    },
    {
      "cell_type": "markdown",
      "metadata": {
        "id": "rqgmo2H4kyJG"
      },
      "source": [
        "**# Plotting Accuracy & Validation Accuracy**"
      ]
    },
    {
      "cell_type": "code",
      "metadata": {
        "id": "7B5ykKkVwmdb",
        "colab": {
          "base_uri": "https://localhost:8080/",
          "height": 315
        },
        "outputId": "09285916-7ea8-4a0a-90d3-bf9998a1a1e9"
      },
      "source": [
        "plt.plot(history.history['accuracy'], label='accuracy')\n",
        "plt.plot(history.history['val_accuracy'], label = 'val_accuracy')\n",
        "plt.xlabel('Epoch')\n",
        "plt.ylabel('Accuracy')\n",
        "plt.legend()\n",
        "\n",
        "print('Training accuracy: %f' % history.history['accuracy'][-1])\n",
        "print('Validation accuracy: %f' % history.history['val_accuracy'][-1])"
      ],
      "execution_count": null,
      "outputs": [
        {
          "output_type": "stream",
          "text": [
            "Training accuracy: 0.976549\n",
            "Validation accuracy: 0.991250\n"
          ],
          "name": "stdout"
        },
        {
          "output_type": "display_data",
          "data": {
            "image/png": "[encoded data removed]",
            "text/plain": [
              "<Figure size 432x288 with 1 Axes>"
            ]
          },
          "metadata": {
            "tags": [],
            "needs_background": "light"
          }
        }
      ]
    },
    {
      "cell_type": "markdown",
      "metadata": {
        "id": "SGTm2Z8Ijao7"
      },
      "source": [
        "**# Predict Image**"
      ]
    },
    {
      "cell_type": "code",
      "metadata": {
        "id": "On5qjD7Bw_pO",
        "colab": {
          "resources": {
            "http://localhost:8080/nbextensions/google.colab/files.js": {
              "data": "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",
              "ok": true,
              "headers": [
                [
                  "content-type",
                  "application/javascript"
                ]
              ],
              "status": 200,
              "status_text": ""
            }
          },
          "base_uri": "https://localhost:8080/",
          "height": 417
        },
        "outputId": "5cc643ad-c5d0-474b-88e8-313751859acc"
      },
      "source": [
        "%matplotlib inline\n",
        "\n",
        "uploaded = files.upload()\n",
        "\n",
        "for fn in uploaded.keys():\n",
        " \n",
        "  path = fn\n",
        "  img = image.load_img(path, target_size=(150,150))\n",
        "  imgplot = plt.imshow(img)\n",
        "  x = image.img_to_array(img)\n",
        "  x = np.expand_dims(x, axis=0)\n",
        "\n",
        "  images = np.vstack([x])\n",
        "  classes = model.predict(images, batch_size=10)\n",
        "  \n",
        "  print(fn)\n",
        "  if classes=='paper':\n",
        "    print('paper')\n",
        "  elif classes=='rock':\n",
        "    print('rock')\n",
        "  else:\n",
        "    print('scissors')"
      ],
      "execution_count": null,
      "outputs": [
        {
          "output_type": "display_data",
          "data": {
            "text/html": [
              "\n",
              "     <input type=\"file\" id=\"files-7c4af895-d623-4336-938d-d3eda54623f1\" name=\"files[]\" multiple disabled\n",
              "        style=\"border:none\" />\n",
              "     <output id=\"result-7c4af895-d623-4336-938d-d3eda54623f1\">\n",
              "      Upload widget is only available when the cell has been executed in the\n",
              "      current browser session. Please rerun this cell to enable.\n",
              "      </output>\n",
              "      <script src=\"/nbextensions/google.colab/files.js\"></script> "
            ],
            "text/plain": [
              "<IPython.core.display.HTML object>"
            ]
          },
          "metadata": {
            "tags": []
          }
        },
        {
          "output_type": "stream",
          "text": [
            "Saving scissors (15).png to scissors (15) (2).png\n",
            "scissors (15).png\n",
            "scissors\n"
          ],
          "name": "stdout"
        },
        {
          "output_type": "stream",
          "text": [
            "/usr/local/lib/python3.7/dist-packages/ipykernel_launcher.py:17: FutureWarning: elementwise comparison failed; returning scalar instead, but in the future will perform elementwise comparison\n",
            "/usr/local/lib/python3.7/dist-packages/ipykernel_launcher.py:19: FutureWarning: elementwise comparison failed; returning scalar instead, but in the future will perform elementwise comparison\n"
          ],
          "name": "stderr"
        },
        {
          "output_type": "display_data",
          "data": {
            "image/png": "[encoded data removed]",
            "text/plain": [
              "<Figure size 432x288 with 1 Axes>"
            ]
          },
          "metadata": {
            "tags": [],
            "needs_background": "light"
          }
        }
      ]
    }
  ]
}